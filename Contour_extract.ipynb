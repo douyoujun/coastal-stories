{
 "cells": [
  {
   "cell_type": "markdown",
   "metadata": {},
   "source": [
    "# Extract contours from GeoJSON"
   ]
  },
  {
   "cell_type": "code",
   "execution_count": null,
   "metadata": {},
   "outputs": [],
   "source": [
    "jsonfile = \"./Inputs/coastal_polygons.geojson\""
   ]
  },
  {
   "cell_type": "code",
   "execution_count": null,
   "metadata": {},
   "outputs": [],
   "source": [
    "import json\n",
    "import ogr\n",
    "import osr\n",
    "import datacube\n",
    "import matplotlib.pyplot as plt\n",
    "\n",
    "from dea_datahandling import load_ard\n",
    "from dea_datahandling import mostcommon_crs\n",
    "from dea_bandindices import calculate_indices\n",
    "from dea_coastaltools import tidal_tag\n",
    "from dea_spatialtools import contour_extract\n",
    "from dea_plotting import display_map\n",
    "from dea_plotting import rgb\n",
    "from dea_plotting import map_shapefile\n",
    "\n",
    "dc = datacube.Datacube(app='erosion_contours')\n",
    "\n",
    "with open(jsonfile) as f:\n",
    "    data = json.load(f)"
   ]
  },
  {
   "cell_type": "code",
   "execution_count": null,
   "metadata": {},
   "outputs": [],
   "source": [
    "# for feature in data['features']:\n",
    "#     print(feature['geometry']['type'])\n",
    "#     print(feature['geometry']['coordinates'])\n",
    "\n",
    "feature = data['features'][0]\n",
    "print(feature)"
   ]
  },
  {
   "cell_type": "code",
   "execution_count": null,
   "metadata": {},
   "outputs": [],
   "source": [
    "polygon = ogr.CreateGeometryFromJson(str(feature['geometry']))\n",
    "\n",
    "source = osr.SpatialReference()\n",
    "source.ImportFromEPSG(4326)\n",
    "\n",
    "target = osr.SpatialReference()\n",
    "target.ImportFromEPSG(3577)\n",
    "\n",
    "transform = osr.CoordinateTransformation(source, target)\n",
    "polygon.Transform(transform)\n",
    "\n",
    "print(polygon)"
   ]
  },
  {
   "cell_type": "code",
   "execution_count": null,
   "metadata": {},
   "outputs": [],
   "source": [
    "poly_envelope = polygon.GetEnvelope()\n",
    "minX, maxX, minY, maxY = poly_envelope"
   ]
  },
  {
   "cell_type": "code",
   "execution_count": null,
   "metadata": {},
   "outputs": [],
   "source": [
    "# Get dc.load params\n",
    "x_range = (minX, maxX)\n",
    "y_range = (minY, maxY)\n",
    "time_range = ('2000', '2018')\n",
    "crs = \"EPSG:3577\"\n",
    "res = (-30, 30)\n",
    "tide_range = (0.50, 1.00)\n",
    "\n",
    "products = ['ga_ls5t_ard_3', 'ga_ls7e_ard_3', 'ga_ls8c_ard_3']\n",
    "measurements = ['nbart_red', 'nbart_green', 'nbart_blue', 'nbart_swir_1']"
   ]
  },
  {
   "cell_type": "code",
   "execution_count": null,
   "metadata": {},
   "outputs": [],
   "source": [
    "query = {\n",
    "    'y': y_range,\n",
    "    'x': x_range,\n",
    "    'time': time_range,\n",
    "    'measurements': measurements,\n",
    "    'crs': crs,\n",
    "    'output_crs': crs,\n",
    "    'resolution': res\n",
    "}\n",
    "\n",
    "landsat_ds = load_ard(\n",
    "    dc=dc,\n",
    "    products=products,\n",
    "    group_by='solar_day',\n",
    "    **query\n",
    ")\n"
   ]
  },
  {
   "cell_type": "code",
   "execution_count": null,
   "metadata": {},
   "outputs": [],
   "source": [
    "# Set the timesteps to visualise\n",
    "timestep = 4\n",
    "\n",
    "# Generate RGB plots at each timestep\n",
    "rgb(landsat_ds, \n",
    "    index=timestep,\n",
    "    percentile_stretch=(0.00, 0.95))\n"
   ]
  },
  {
   "cell_type": "code",
   "execution_count": null,
   "metadata": {},
   "outputs": [],
   "source": [
    "landsat_ds = calculate_indices(landsat_ds, index='MNDWI', \n",
    "                               collection='ga_ls_3')"
   ]
  },
  {
   "cell_type": "code",
   "execution_count": null,
   "metadata": {},
   "outputs": [],
   "source": [
    "# Calculate tides for each timestep in the satellite dataset\n",
    "landsat_ds = tidal_tag(ds=landsat_ds, tidepost_lat=None, tidepost_lon=None)\n",
    "\n",
    "# Print the output dataset with new `tide_height` variable\n",
    "print(landsat_ds)"
   ]
  },
  {
   "cell_type": "code",
   "execution_count": null,
   "metadata": {},
   "outputs": [],
   "source": [
    "# Calculate the min and max tide heights to include based on the % range\n",
    "min_tide, max_tide = landsat_ds.tide_height.quantile(tide_range) \n",
    "\n",
    "# Plot the resulting tide heights for each Landsat image:\n",
    "landsat_ds.tide_height.plot()\n",
    "plt.axhline(min_tide, c='red', linestyle='--')\n",
    "plt.axhline(max_tide, c='red', linestyle='--')\n",
    "plt.show()\n"
   ]
  },
  {
   "cell_type": "code",
   "execution_count": null,
   "metadata": {},
   "outputs": [],
   "source": [
    "# Keep timesteps larger than the min tide, and smaller than the max tide\n",
    "landsat_filtered = landsat_ds.sel(time=(landsat_ds.tide_height > min_tide) &\n",
    "                                       (landsat_ds.tide_height <= max_tide))\n",
    "print(landsat_filtered)"
   ]
  },
  {
   "cell_type": "code",
   "execution_count": null,
   "metadata": {},
   "outputs": [],
   "source": [
    "time_step = '1Y'\n",
    "\n",
    "# Combine into summary images by `time_step`\n",
    "landsat_summaries = (landsat_filtered.MNDWI\n",
    "                     .compute()\n",
    "                     .resample(time=time_step, closed='left')\n",
    "                     .median('time'))\n",
    "\n",
    "# Plot the output summary images\n",
    "landsat_summaries.plot(col='time',\n",
    "                       cmap='RdBu',\n",
    "                       col_wrap=4,\n",
    "                       vmin=-0.8,\n",
    "                       vmax=0.8)\n",
    "plt.show()\n"
   ]
  },
  {
   "cell_type": "code",
   "execution_count": null,
   "metadata": {},
   "outputs": [],
   "source": [
    "# Set up attributes to assign to each waterline\n",
    "attribute_data = {'time': [str(i)[0:10] for i in landsat_summaries.time.values]}\n",
    "attribute_dtypes = {'time': 'str'}\n",
    "\n",
    "# Extract waterline contours for the '0' water index threshold:\n",
    "contour_gdf = contour_extract(\n",
    "    z_values=[0],\n",
    "    ds_array=landsat_summaries,\n",
    "    ds_crs=landsat_ds.crs,\n",
    "    ds_affine=landsat_ds.geobox.transform,\n",
    "    output_shp=f'output_waterlines.shp',\n",
    "    attribute_data=attribute_data,\n",
    "    attribute_dtypes=attribute_dtypes,\n",
    "    min_vertices=50)\n",
    "\n",
    "# Plot output shapefile over the first MNDWI layer in the time series\n",
    "landsat_summaries.isel(time=0).plot(size=12, \n",
    "                                    cmap='Greys', \n",
    "                                    add_colorbar=False)\n",
    "contour_gdf.to_crs(epsg=4326).to_file('filename.geojson', driver='GeoJSON')\n",
    "\n",
    "contour_gdf.plot(ax=plt.gca(), \n",
    "                 column='time', \n",
    "                 cmap='YlOrRd', \n",
    "                 legend=True, \n",
    "                 legend_kwds={'loc': 'lower right'})\n",
    "plt.show()"
   ]
  },
  {
   "cell_type": "code",
   "execution_count": null,
   "metadata": {},
   "outputs": [],
   "source": []
  }
 ],
 "metadata": {
  "kernelspec": {
   "display_name": "Python 3",
   "language": "python",
   "name": "python3"
  },
  "language_info": {
   "codemirror_mode": {
    "name": "ipython",
    "version": 3
   },
   "file_extension": ".py",
   "mimetype": "text/x-python",
   "name": "python",
   "nbconvert_exporter": "python",
   "pygments_lexer": "ipython3",
   "version": "3.6.8"
  },
  "widgets": {
   "application/vnd.jupyter.widget-state+json": {
    "state": {},
    "version_major": 2,
    "version_minor": 0
   }
  }
 },
 "nbformat": 4,
 "nbformat_minor": 4
}
